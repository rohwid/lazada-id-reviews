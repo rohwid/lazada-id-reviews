{
 "cells": [
  {
   "cell_type": "code",
   "execution_count": 1,
   "metadata": {},
   "outputs": [],
   "source": [
    "import os\n",
    "import pandas as pd\n",
    "import seaborn as sns"
   ]
  },
  {
   "cell_type": "code",
   "execution_count": 2,
   "metadata": {},
   "outputs": [
    {
     "data": {
      "text/plain": [
       "'/home/rohwid/Pacmann/lazada-id-reviews/notebooks'"
      ]
     },
     "execution_count": 2,
     "metadata": {},
     "output_type": "execute_result"
    }
   ],
   "source": [
    "%pwd"
   ]
  },
  {
   "cell_type": "code",
   "execution_count": 3,
   "metadata": {},
   "outputs": [],
   "source": [
    "# Change to the main directory\n",
    "# So, it's executed from main directory\n",
    "os.chdir(\"../\")"
   ]
  },
  {
   "cell_type": "code",
   "execution_count": 4,
   "metadata": {},
   "outputs": [
    {
     "data": {
      "text/plain": [
       "'/home/rohwid/Pacmann/lazada-id-reviews'"
      ]
     },
     "execution_count": 4,
     "metadata": {},
     "output_type": "execute_result"
    }
   ],
   "source": [
    "%pwd"
   ]
  },
  {
   "cell_type": "code",
   "execution_count": 5,
   "metadata": {},
   "outputs": [],
   "source": [
    "dataset_items = pd.read_csv(\"artifacts/data-ingestion/items.csv\")\n",
    "dataset_reviews = pd.read_csv(\"artifacts/data-ingestion/reviews.csv\")"
   ]
  },
  {
   "cell_type": "code",
   "execution_count": 6,
   "metadata": {},
   "outputs": [
    {
     "data": {
      "text/plain": [
       "0    beli-harddisk-eksternal\n",
       "1                beli-laptop\n",
       "2              beli-smart-tv\n",
       "3          jual-flash-drives\n",
       "4      shop-televisi-digital\n",
       "Name: category, dtype: object"
      ]
     },
     "execution_count": 6,
     "metadata": {},
     "output_type": "execute_result"
    }
   ],
   "source": [
    "data_categories = pd.read_csv(\"artifacts/data-ingestion/category.csv\")\n",
    "data_categories = data_categories['category']\n",
    "data_categories"
   ]
  },
  {
   "cell_type": "code",
   "execution_count": 7,
   "metadata": {},
   "outputs": [
    {
     "data": {
      "text/plain": [
       "((10942, 9), (203787, 15))"
      ]
     },
     "execution_count": 7,
     "metadata": {},
     "output_type": "execute_result"
    }
   ],
   "source": [
    "dataset_items.shape, dataset_reviews.shape"
   ]
  },
  {
   "cell_type": "code",
   "execution_count": 8,
   "metadata": {},
   "outputs": [],
   "source": [
    "pd.set_option(\"display.max_rows\", dataset_reviews.shape[0])\n",
    "pd.set_option(\"display.max_columns\", dataset_reviews.shape[1])"
   ]
  },
  {
   "cell_type": "markdown",
   "metadata": {},
   "source": [
    "Take a look the data visually for initial EDA."
   ]
  },
  {
   "cell_type": "code",
   "execution_count": 9,
   "metadata": {},
   "outputs": [
    {
     "data": {
      "text/html": [
       "<div>\n",
       "<style scoped>\n",
       "    .dataframe tbody tr th:only-of-type {\n",
       "        vertical-align: middle;\n",
       "    }\n",
       "\n",
       "    .dataframe tbody tr th {\n",
       "        vertical-align: top;\n",
       "    }\n",
       "\n",
       "    .dataframe thead th {\n",
       "        text-align: right;\n",
       "    }\n",
       "</style>\n",
       "<table border=\"1\" class=\"dataframe\">\n",
       "  <thead>\n",
       "    <tr style=\"text-align: right;\">\n",
       "      <th></th>\n",
       "      <th>itemId</th>\n",
       "      <th>category</th>\n",
       "      <th>name</th>\n",
       "      <th>brandName</th>\n",
       "      <th>url</th>\n",
       "      <th>price</th>\n",
       "      <th>averageRating</th>\n",
       "      <th>totalReviews</th>\n",
       "      <th>retrievedDate</th>\n",
       "    </tr>\n",
       "  </thead>\n",
       "  <tbody>\n",
       "    <tr>\n",
       "      <th>0</th>\n",
       "      <td>100002528</td>\n",
       "      <td>beli-harddisk-eksternal</td>\n",
       "      <td>TOSHIBA Smart HD LED TV 32\" - 32L5650VJ Free B...</td>\n",
       "      <td>Toshiba</td>\n",
       "      <td>https://www.lazada.co.id/products/toshiba-smar...</td>\n",
       "      <td>2499000</td>\n",
       "      <td>4</td>\n",
       "      <td>8</td>\n",
       "      <td>2019-10-02</td>\n",
       "    </tr>\n",
       "    <tr>\n",
       "      <th>1</th>\n",
       "      <td>100003785</td>\n",
       "      <td>beli-harddisk-eksternal</td>\n",
       "      <td>TOSHIBA Full HD Smart LED TV 40\" - 40L5650VJ -...</td>\n",
       "      <td>Toshiba</td>\n",
       "      <td>https://www.lazada.co.id/products/toshiba-full...</td>\n",
       "      <td>3788000</td>\n",
       "      <td>3</td>\n",
       "      <td>3</td>\n",
       "      <td>2019-10-02</td>\n",
       "    </tr>\n",
       "    <tr>\n",
       "      <th>2</th>\n",
       "      <td>100004132</td>\n",
       "      <td>beli-harddisk-eksternal</td>\n",
       "      <td>Samsung 40 Inch Full HD Flat LED Digital TV 4...</td>\n",
       "      <td>LG</td>\n",
       "      <td>https://www.lazada.co.id/products/samsung-40-i...</td>\n",
       "      <td>3850000</td>\n",
       "      <td>3</td>\n",
       "      <td>2</td>\n",
       "      <td>2019-10-02</td>\n",
       "    </tr>\n",
       "    <tr>\n",
       "      <th>3</th>\n",
       "      <td>100004505</td>\n",
       "      <td>beli-harddisk-eksternal</td>\n",
       "      <td>Sharp HD LED TV 24\" - LC-24LE175I - Hitam</td>\n",
       "      <td>Sharp</td>\n",
       "      <td>https://www.lazada.co.id/products/sharp-hd-led...</td>\n",
       "      <td>1275000</td>\n",
       "      <td>3</td>\n",
       "      <td>11</td>\n",
       "      <td>2019-10-02</td>\n",
       "    </tr>\n",
       "    <tr>\n",
       "      <th>4</th>\n",
       "      <td>100005037</td>\n",
       "      <td>beli-harddisk-eksternal</td>\n",
       "      <td>Lenovo Ideapad 130-15AST LAPTOP MULTIMEDIA I A...</td>\n",
       "      <td>Lenovo</td>\n",
       "      <td>https://www.lazada.co.id/products/lenovo-ideap...</td>\n",
       "      <td>3984100</td>\n",
       "      <td>5</td>\n",
       "      <td>1</td>\n",
       "      <td>2019-10-02</td>\n",
       "    </tr>\n",
       "  </tbody>\n",
       "</table>\n",
       "</div>"
      ],
      "text/plain": [
       "      itemId                 category  \\\n",
       "0  100002528  beli-harddisk-eksternal   \n",
       "1  100003785  beli-harddisk-eksternal   \n",
       "2  100004132  beli-harddisk-eksternal   \n",
       "3  100004505  beli-harddisk-eksternal   \n",
       "4  100005037  beli-harddisk-eksternal   \n",
       "\n",
       "                                                name brandName  \\\n",
       "0  TOSHIBA Smart HD LED TV 32\" - 32L5650VJ Free B...   Toshiba   \n",
       "1  TOSHIBA Full HD Smart LED TV 40\" - 40L5650VJ -...   Toshiba   \n",
       "2   Samsung 40 Inch Full HD Flat LED Digital TV 4...        LG   \n",
       "3          Sharp HD LED TV 24\" - LC-24LE175I - Hitam     Sharp   \n",
       "4  Lenovo Ideapad 130-15AST LAPTOP MULTIMEDIA I A...    Lenovo   \n",
       "\n",
       "                                                 url    price  averageRating  \\\n",
       "0  https://www.lazada.co.id/products/toshiba-smar...  2499000              4   \n",
       "1  https://www.lazada.co.id/products/toshiba-full...  3788000              3   \n",
       "2  https://www.lazada.co.id/products/samsung-40-i...  3850000              3   \n",
       "3  https://www.lazada.co.id/products/sharp-hd-led...  1275000              3   \n",
       "4  https://www.lazada.co.id/products/lenovo-ideap...  3984100              5   \n",
       "\n",
       "   totalReviews retrievedDate  \n",
       "0             8    2019-10-02  \n",
       "1             3    2019-10-02  \n",
       "2             2    2019-10-02  \n",
       "3            11    2019-10-02  \n",
       "4             1    2019-10-02  "
      ]
     },
     "execution_count": 9,
     "metadata": {},
     "output_type": "execute_result"
    }
   ],
   "source": [
    "dataset_items.head()"
   ]
  },
  {
   "cell_type": "code",
   "execution_count": 10,
   "metadata": {},
   "outputs": [
    {
     "data": {
      "text/html": [
       "<div>\n",
       "<style scoped>\n",
       "    .dataframe tbody tr th:only-of-type {\n",
       "        vertical-align: middle;\n",
       "    }\n",
       "\n",
       "    .dataframe tbody tr th {\n",
       "        vertical-align: top;\n",
       "    }\n",
       "\n",
       "    .dataframe thead th {\n",
       "        text-align: right;\n",
       "    }\n",
       "</style>\n",
       "<table border=\"1\" class=\"dataframe\">\n",
       "  <thead>\n",
       "    <tr style=\"text-align: right;\">\n",
       "      <th></th>\n",
       "      <th>itemId</th>\n",
       "      <th>category</th>\n",
       "      <th>name</th>\n",
       "      <th>rating</th>\n",
       "      <th>originalRating</th>\n",
       "      <th>reviewTitle</th>\n",
       "      <th>reviewContent</th>\n",
       "      <th>likeCount</th>\n",
       "      <th>upVotes</th>\n",
       "      <th>downVotes</th>\n",
       "      <th>helpful</th>\n",
       "      <th>relevanceScore</th>\n",
       "      <th>boughtDate</th>\n",
       "      <th>clientType</th>\n",
       "      <th>retrievedDate</th>\n",
       "    </tr>\n",
       "  </thead>\n",
       "  <tbody>\n",
       "    <tr>\n",
       "      <th>0</th>\n",
       "      <td>423343484</td>\n",
       "      <td>beli-harddisk-eksternal</td>\n",
       "      <td>Agus S.</td>\n",
       "      <td>5</td>\n",
       "      <td>NaN</td>\n",
       "      <td>NaN</td>\n",
       "      <td>NaN</td>\n",
       "      <td>0</td>\n",
       "      <td>0</td>\n",
       "      <td>0</td>\n",
       "      <td>True</td>\n",
       "      <td>18.01</td>\n",
       "      <td>31 Mar 2019</td>\n",
       "      <td>androidApp</td>\n",
       "      <td>2019-10-02</td>\n",
       "    </tr>\n",
       "    <tr>\n",
       "      <th>1</th>\n",
       "      <td>423343484</td>\n",
       "      <td>beli-harddisk-eksternal</td>\n",
       "      <td>Agus S.</td>\n",
       "      <td>5</td>\n",
       "      <td>NaN</td>\n",
       "      <td>NaN</td>\n",
       "      <td>mantap</td>\n",
       "      <td>0</td>\n",
       "      <td>0</td>\n",
       "      <td>0</td>\n",
       "      <td>True</td>\n",
       "      <td>18.01</td>\n",
       "      <td>11 Mar 2019</td>\n",
       "      <td>androidApp</td>\n",
       "      <td>2019-10-02</td>\n",
       "    </tr>\n",
       "    <tr>\n",
       "      <th>2</th>\n",
       "      <td>423343954</td>\n",
       "      <td>beli-harddisk-eksternal</td>\n",
       "      <td>Alvi I.</td>\n",
       "      <td>5</td>\n",
       "      <td>NaN</td>\n",
       "      <td>NaN</td>\n",
       "      <td>Bagus dan sesuai👍👍</td>\n",
       "      <td>0</td>\n",
       "      <td>0</td>\n",
       "      <td>0</td>\n",
       "      <td>True</td>\n",
       "      <td>31.51</td>\n",
       "      <td>05 Mei 2019</td>\n",
       "      <td>iosApp</td>\n",
       "      <td>2019-10-02</td>\n",
       "    </tr>\n",
       "    <tr>\n",
       "      <th>3</th>\n",
       "      <td>423343954</td>\n",
       "      <td>beli-harddisk-eksternal</td>\n",
       "      <td>ajeng P.</td>\n",
       "      <td>5</td>\n",
       "      <td>NaN</td>\n",
       "      <td>NaN</td>\n",
       "      <td>NaN</td>\n",
       "      <td>0</td>\n",
       "      <td>0</td>\n",
       "      <td>0</td>\n",
       "      <td>True</td>\n",
       "      <td>18.67</td>\n",
       "      <td>24 Jan 2019</td>\n",
       "      <td>androidApp</td>\n",
       "      <td>2019-10-02</td>\n",
       "    </tr>\n",
       "    <tr>\n",
       "      <th>4</th>\n",
       "      <td>423343954</td>\n",
       "      <td>beli-harddisk-eksternal</td>\n",
       "      <td>widya C.</td>\n",
       "      <td>5</td>\n",
       "      <td>NaN</td>\n",
       "      <td>NaN</td>\n",
       "      <td>NaN</td>\n",
       "      <td>0</td>\n",
       "      <td>0</td>\n",
       "      <td>0</td>\n",
       "      <td>True</td>\n",
       "      <td>17.01</td>\n",
       "      <td>12 Feb 2019</td>\n",
       "      <td>androidApp</td>\n",
       "      <td>2019-10-02</td>\n",
       "    </tr>\n",
       "  </tbody>\n",
       "</table>\n",
       "</div>"
      ],
      "text/plain": [
       "      itemId                 category      name  rating  originalRating  \\\n",
       "0  423343484  beli-harddisk-eksternal   Agus S.       5             NaN   \n",
       "1  423343484  beli-harddisk-eksternal   Agus S.       5             NaN   \n",
       "2  423343954  beli-harddisk-eksternal   Alvi I.       5             NaN   \n",
       "3  423343954  beli-harddisk-eksternal  ajeng P.       5             NaN   \n",
       "4  423343954  beli-harddisk-eksternal  widya C.       5             NaN   \n",
       "\n",
       "  reviewTitle       reviewContent  likeCount  upVotes  downVotes  helpful  \\\n",
       "0         NaN                 NaN          0        0          0     True   \n",
       "1         NaN              mantap          0        0          0     True   \n",
       "2         NaN  Bagus dan sesuai👍👍          0        0          0     True   \n",
       "3         NaN                 NaN          0        0          0     True   \n",
       "4         NaN                 NaN          0        0          0     True   \n",
       "\n",
       "   relevanceScore   boughtDate  clientType retrievedDate  \n",
       "0           18.01  31 Mar 2019  androidApp    2019-10-02  \n",
       "1           18.01  11 Mar 2019  androidApp    2019-10-02  \n",
       "2           31.51  05 Mei 2019      iosApp    2019-10-02  \n",
       "3           18.67  24 Jan 2019  androidApp    2019-10-02  \n",
       "4           17.01  12 Feb 2019  androidApp    2019-10-02  "
      ]
     },
     "execution_count": 10,
     "metadata": {},
     "output_type": "execute_result"
    }
   ],
   "source": [
    "dataset_reviews.head()"
   ]
  },
  {
   "cell_type": "code",
   "execution_count": 11,
   "metadata": {},
   "outputs": [
    {
     "name": "stdout",
     "output_type": "stream",
     "text": [
      "<class 'pandas.core.frame.DataFrame'>\n",
      "RangeIndex: 203787 entries, 0 to 203786\n",
      "Data columns (total 15 columns):\n",
      " #   Column          Non-Null Count   Dtype  \n",
      "---  ------          --------------   -----  \n",
      " 0   itemId          203787 non-null  int64  \n",
      " 1   category        203787 non-null  object \n",
      " 2   name            203787 non-null  object \n",
      " 3   rating          203787 non-null  int64  \n",
      " 4   originalRating  8 non-null       float64\n",
      " 5   reviewTitle     23399 non-null   object \n",
      " 6   reviewContent   107029 non-null  object \n",
      " 7   likeCount       203787 non-null  int64  \n",
      " 8   upVotes         203787 non-null  int64  \n",
      " 9   downVotes       203787 non-null  int64  \n",
      " 10  helpful         203787 non-null  bool   \n",
      " 11  relevanceScore  203787 non-null  float64\n",
      " 12  boughtDate      196680 non-null  object \n",
      " 13  clientType      203787 non-null  object \n",
      " 14  retrievedDate   203787 non-null  object \n",
      "dtypes: bool(1), float64(2), int64(5), object(7)\n",
      "memory usage: 22.0+ MB\n"
     ]
    }
   ],
   "source": [
    "dataset_reviews.info()"
   ]
  },
  {
   "cell_type": "markdown",
   "metadata": {},
   "source": [
    "`dataset_items` seems like doesn’t have reviews content, so we would use `dataset_reviews` instead."
   ]
  },
  {
   "cell_type": "code",
   "execution_count": 12,
   "metadata": {},
   "outputs": [],
   "source": [
    "del dataset_items, data_categories"
   ]
  },
  {
   "cell_type": "code",
   "execution_count": 13,
   "metadata": {},
   "outputs": [],
   "source": [
    "dataset = dataset_reviews[[\"rating\", \"reviewContent\"]].copy()"
   ]
  },
  {
   "cell_type": "code",
   "execution_count": 14,
   "metadata": {},
   "outputs": [
    {
     "data": {
      "text/html": [
       "<div>\n",
       "<style scoped>\n",
       "    .dataframe tbody tr th:only-of-type {\n",
       "        vertical-align: middle;\n",
       "    }\n",
       "\n",
       "    .dataframe tbody tr th {\n",
       "        vertical-align: top;\n",
       "    }\n",
       "\n",
       "    .dataframe thead th {\n",
       "        text-align: right;\n",
       "    }\n",
       "</style>\n",
       "<table border=\"1\" class=\"dataframe\">\n",
       "  <thead>\n",
       "    <tr style=\"text-align: right;\">\n",
       "      <th></th>\n",
       "      <th>rating</th>\n",
       "      <th>reviewContent</th>\n",
       "    </tr>\n",
       "  </thead>\n",
       "  <tbody>\n",
       "    <tr>\n",
       "      <th>0</th>\n",
       "      <td>5</td>\n",
       "      <td>NaN</td>\n",
       "    </tr>\n",
       "    <tr>\n",
       "      <th>1</th>\n",
       "      <td>5</td>\n",
       "      <td>mantap</td>\n",
       "    </tr>\n",
       "    <tr>\n",
       "      <th>2</th>\n",
       "      <td>5</td>\n",
       "      <td>Bagus dan sesuai👍👍</td>\n",
       "    </tr>\n",
       "    <tr>\n",
       "      <th>3</th>\n",
       "      <td>5</td>\n",
       "      <td>NaN</td>\n",
       "    </tr>\n",
       "    <tr>\n",
       "      <th>4</th>\n",
       "      <td>5</td>\n",
       "      <td>NaN</td>\n",
       "    </tr>\n",
       "  </tbody>\n",
       "</table>\n",
       "</div>"
      ],
      "text/plain": [
       "   rating       reviewContent\n",
       "0       5                 NaN\n",
       "1       5              mantap\n",
       "2       5  Bagus dan sesuai👍👍\n",
       "3       5                 NaN\n",
       "4       5                 NaN"
      ]
     },
     "execution_count": 14,
     "metadata": {},
     "output_type": "execute_result"
    }
   ],
   "source": [
    "dataset.head()"
   ]
  },
  {
   "cell_type": "markdown",
   "metadata": {},
   "source": [
    "In `dataset_reviews`, we'd like to use only `rating` and `reviewContent` columns. This is the most minimum effort to getting to know the model least performance."
   ]
  },
  {
   "cell_type": "code",
   "execution_count": 15,
   "metadata": {},
   "outputs": [
    {
     "name": "stdout",
     "output_type": "stream",
     "text": [
      "<class 'pandas.core.frame.DataFrame'>\n",
      "RangeIndex: 203787 entries, 0 to 203786\n",
      "Data columns (total 2 columns):\n",
      " #   Column         Non-Null Count   Dtype \n",
      "---  ------         --------------   ----- \n",
      " 0   rating         203787 non-null  int64 \n",
      " 1   reviewContent  107029 non-null  object\n",
      "dtypes: int64(1), object(1)\n",
      "memory usage: 3.1+ MB\n"
     ]
    }
   ],
   "source": [
    "dataset.info()"
   ]
  },
  {
   "cell_type": "code",
   "execution_count": 16,
   "metadata": {},
   "outputs": [
    {
     "data": {
      "text/plain": [
       "rating               0\n",
       "reviewContent    96758\n",
       "dtype: int64"
      ]
     },
     "execution_count": 16,
     "metadata": {},
     "output_type": "execute_result"
    }
   ],
   "source": [
    "dataset.isnull().sum()"
   ]
  },
  {
   "cell_type": "markdown",
   "metadata": {},
   "source": [
    "Now let's take a look the distribution of rating.\n",
    "\n",
    "We could oversampling the least class, but for this time, we would let this as it is.\n",
    "\n",
    "The summary:\n",
    "+ Only select `rating` and `reviewContent`.\n",
    "+ Droping the null `reviewContent` value."
   ]
  },
  {
   "cell_type": "code",
   "execution_count": 17,
   "metadata": {},
   "outputs": [
    {
     "data": {
      "text/plain": [
       "<Axes: xlabel='rating', ylabel='count'>"
      ]
     },
     "execution_count": 17,
     "metadata": {},
     "output_type": "execute_result"
    },
    {
     "data": {
      "image/png": "[encoded data removed]",
      "text/plain": [
       "<Figure size 640x480 with 1 Axes>"
      ]
     },
     "metadata": {},
     "output_type": "display_data"
    }
   ],
   "source": [
    "sns.countplot(data=dataset, x=\"rating\", hue=\"rating\")"
   ]
  }
 ],
 "metadata": {
  "kernelspec": {
   "display_name": ".venv_lzd",
   "language": "python",
   "name": "python3"
  },
  "language_info": {
   "codemirror_mode": {
    "name": "ipython",
    "version": 3
   },
   "file_extension": ".py",
   "mimetype": "text/x-python",
   "name": "python",
   "nbconvert_exporter": "python",
   "pygments_lexer": "ipython3",
   "version": "3.10.12"
  }
 },
 "nbformat": 4,
 "nbformat_minor": 2
}
