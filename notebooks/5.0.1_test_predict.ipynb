{
 "cells": [
  {
   "cell_type": "code",
   "execution_count": 1,
   "metadata": {},
   "outputs": [],
   "source": [
    "import os"
   ]
  },
  {
   "cell_type": "code",
   "execution_count": 2,
   "metadata": {},
   "outputs": [
    {
     "data": {
      "text/plain": [
       "'/home/rohwid/Pacmann/lazada-id-reviews/notebooks'"
      ]
     },
     "execution_count": 2,
     "metadata": {},
     "output_type": "execute_result"
    }
   ],
   "source": [
    "%pwd"
   ]
  },
  {
   "cell_type": "code",
   "execution_count": 3,
   "metadata": {},
   "outputs": [],
   "source": [
    "# Change to the main directory\n",
    "# So, it's executed from main directory\n",
    "os.chdir(\"../\")"
   ]
  },
  {
   "cell_type": "code",
   "execution_count": 4,
   "metadata": {},
   "outputs": [
    {
     "data": {
      "text/plain": [
       "'/home/rohwid/Pacmann/lazada-id-reviews'"
      ]
     },
     "execution_count": 4,
     "metadata": {},
     "output_type": "execute_result"
    }
   ],
   "source": [
    "%pwd"
   ]
  },
  {
   "cell_type": "code",
   "execution_count": 5,
   "metadata": {},
   "outputs": [],
   "source": [
    "import joblib\n",
    "import requests"
   ]
  },
  {
   "cell_type": "markdown",
   "metadata": {},
   "source": [
    "This file is not the main part of the `lazada-id-reviews` project, just to demonstrate how we test the API endpoint.\n",
    "\n",
    "So, the variable will be hard coded here as variable:"
   ]
  },
  {
   "cell_type": "code",
   "execution_count": 6,
   "metadata": {},
   "outputs": [],
   "source": [
    "X_test = joblib.load(\"artifacts/data/X_test.pkl\")\n",
    "y_test = joblib.load(\"artifacts/data/y_test.pkl\")"
   ]
  },
  {
   "cell_type": "markdown",
   "metadata": {},
   "source": [
    "We try to use 10 data first."
   ]
  },
  {
   "cell_type": "code",
   "execution_count": 7,
   "metadata": {},
   "outputs": [],
   "source": [
    "data = {\n",
    "    \"reviewContents\": X_test.to_list()[:10]\n",
    "}"
   ]
  },
  {
   "cell_type": "code",
   "execution_count": 8,
   "metadata": {},
   "outputs": [
    {
     "data": {
      "text/plain": [
       "{'reviewContents': ['mantap joossss... pengiriman cepat kemaren pesan sekarang Dateng, makasihhh coocaa mantapppp',\n",
       "  'packingnya agak menakutkan krn cuma pake buble warp aja overall oke bgt rekomendasi bgt deh',\n",
       "  'sudah lewat batas pengiriman, barang belum sampai',\n",
       "  'cara masukin kartu sim nya gimana? tolong kasih tau yg bisa?',\n",
       "  'Recommend seller, barang sesuai',\n",
       "  'bagus sama dengan aslinya perfect deh pokoknya',\n",
       "  'beli hark jumat, hari minggu sampai , ahhh super cepat, sukses lazada dan sandisk official, tahu gini dari duli belanja di lazadaa 😍😍',\n",
       "  'Produk sudah diterima, pengiriman super cepat sekali ini, Produknya mulus, usb bisa digunakan buat lihat foto, putar film.  Biar bintang yang bicara....',\n",
       "  'mantabb',\n",
       "  'Barangnya bagus, kecil/compaq, dan packing baik']}"
      ]
     },
     "execution_count": 8,
     "metadata": {},
     "output_type": "execute_result"
    }
   ],
   "source": [
    "data"
   ]
  },
  {
   "cell_type": "markdown",
   "metadata": {},
   "source": [
    "Dump the data as json, it will be help us to construct the http request request body."
   ]
  },
  {
   "cell_type": "code",
   "execution_count": 9,
   "metadata": {},
   "outputs": [],
   "source": [
    "import json\n",
    "\n",
    "with open('notebooks/data.json', 'w') as fp:\n",
    "    json.dump(data, fp)"
   ]
  },
  {
   "cell_type": "markdown",
   "metadata": {},
   "source": [
    "Test the `app.py` with http request."
   ]
  },
  {
   "cell_type": "code",
   "execution_count": 10,
   "metadata": {},
   "outputs": [],
   "source": [
    "result = requests.post(url=\"https://mlops-class-stg.valiance.ai/predict\", json=data)\n",
    "y_predict = result.json()"
   ]
  },
  {
   "cell_type": "code",
   "execution_count": 11,
   "metadata": {},
   "outputs": [
    {
     "data": {
      "text/plain": [
       "10"
      ]
     },
     "execution_count": 11,
     "metadata": {},
     "output_type": "execute_result"
    }
   ],
   "source": [
    "len(y_predict)"
   ]
  },
  {
   "cell_type": "code",
   "execution_count": 12,
   "metadata": {},
   "outputs": [
    {
     "data": {
      "text/plain": [
       "[5, 5, 3, 5, 5, 5, 5, 5, 5, 4]"
      ]
     },
     "execution_count": 12,
     "metadata": {},
     "output_type": "execute_result"
    }
   ],
   "source": [
    "y_predict[:10]"
   ]
  },
  {
   "cell_type": "markdown",
   "metadata": {},
   "source": [
    "---\n",
    "\n",
    "Performance Monitoring"
   ]
  },
  {
   "cell_type": "code",
   "execution_count": 13,
   "metadata": {},
   "outputs": [],
   "source": [
    "X_test_sample = X_test.to_list()[:100]\n",
    "y_test_sample = y_test.to_list()[:100]\n"
   ]
  },
  {
   "cell_type": "code",
   "execution_count": 15,
   "metadata": {},
   "outputs": [],
   "source": [
    "data = {\n",
    "    \"reviewContents\": X_test_sample\n",
    "}"
   ]
  },
  {
   "cell_type": "code",
   "execution_count": 16,
   "metadata": {},
   "outputs": [
    {
     "name": "stdout",
     "output_type": "stream",
     "text": [
      "              precision    recall  f1-score   support\n",
      "\n",
      "           1       0.50      0.70      0.58        10\n",
      "           2       0.50      0.50      0.50         2\n",
      "           3       0.43      0.60      0.50         5\n",
      "           4       0.22      0.57      0.32         7\n",
      "           5       0.93      0.72      0.81        76\n",
      "\n",
      "    accuracy                           0.70       100\n",
      "   macro avg       0.52      0.62      0.54       100\n",
      "weighted avg       0.81      0.70      0.73       100\n",
      "\n"
     ]
    }
   ],
   "source": [
    "from sklearn.metrics import classification_report\n",
    "\n",
    "result = requests.post(\n",
    "    url=\"https://mlops-class-stg.valiance.ai/predict\", json=data\n",
    ")\n",
    "\n",
    "y_predict_sample = result.json()\n",
    "\n",
    "print(classification_report(y_test_sample, y_predict_sample))"
   ]
  }
 ],
 "metadata": {
  "kernelspec": {
   "display_name": ".lazada-id-reviews-venv",
   "language": "python",
   "name": "python3"
  },
  "language_info": {
   "codemirror_mode": {
    "name": "ipython",
    "version": 3
   },
   "file_extension": ".py",
   "mimetype": "text/x-python",
   "name": "python",
   "nbconvert_exporter": "python",
   "pygments_lexer": "ipython3",
   "version": "3.10.12"
  }
 },
 "nbformat": 4,
 "nbformat_minor": 2
}
